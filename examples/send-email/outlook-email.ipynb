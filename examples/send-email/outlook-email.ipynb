{
 "cells": [
  {
   "cell_type": "markdown",
   "id": "dc918403-1f75-48fe-93f0-a082a6ca07d1",
   "metadata": {},
   "source": [
    "## Using Mito and Python to send an email\n",
    "\n",
    "This notebook uses Mito to import data, create a pivot table, and send an email with the pivot table embedded in it. \n",
    "It sends the email using Outlook and utilizes html styling supported by Outlook."
   ]
  },
  {
   "cell_type": "markdown",
   "id": "7e831731-7de4-4a66-86a9-33877ac0b9dd",
   "metadata": {},
   "source": [
    "### Import Data"
   ]
  },
  {
   "cell_type": "code",
   "execution_count": 65,
   "id": "0335d299-9fc8-4c75-ab6c-14c9d78df9d6",
   "metadata": {},
   "outputs": [],
   "source": [
    "import pandas as pd\n",
    "df = pd.DataFrame({'City': ['New York City', 'New York City', 'Philadelphia', 'Washington D.C.', 'Boston', 'Boston'], 'Ticket_Office': ['N', 'Y', 'N', 'Y', 'N', 'Y']}) "
   ]
  },
  {
   "cell_type": "markdown",
   "id": "032fd54f-3cfa-4308-b728-81b2039d4f92",
   "metadata": {},
   "source": [
    "### Create pivot table"
   ]
  },
  {
   "cell_type": "code",
   "execution_count": 66,
   "id": "c499a607-4a9f-4f00-9a69-4ba7d7899b48",
   "metadata": {
    "tags": []
   },
   "outputs": [],
   "source": [
    "from mitosheet import *; # Analysis Name:id-jwatoqmnru;\n",
    "    \n",
    "# Pivoted into df\n",
    "tmp_df = df[['City']]\n",
    "pivot_table = tmp_df.pivot_table(\n",
    "    index=['City'],\n",
    "    values=['City'],\n",
    "    aggfunc={'City': ['count']}\n",
    ")\n",
    "pivot_table.set_axis([flatten_column_header(col) for col in pivot_table.keys()], axis=1, inplace=True)\n",
    "df_pivot = pivot_table.reset_index()\n",
    "\n",
    "# Renamed columns Number of Stations\n",
    "df_pivot.rename(columns={'City count': 'Number of Stations'}, inplace=True)\n"
   ]
  },
  {
   "cell_type": "markdown",
   "id": "901ca796-a487-41a7-a433-d8afe494c8b6",
   "metadata": {},
   "source": [
    "### Apply simple styling to the dataframe"
   ]
  },
  {
   "cell_type": "code",
   "execution_count": 67,
   "id": "6ff0e425-7a41-4e74-814b-515034c1a078",
   "metadata": {},
   "outputs": [],
   "source": [
    "df_pivot_styler = df_pivot.style\\\n",
    "    .set_table_styles([\n",
    "        {'selector': 'thead', 'props': [('color', '#FFFFFF'), ('background-color', '#4D73BE')]},\n",
    "])\n"
   ]
  },
  {
   "cell_type": "markdown",
   "id": "22bf083d-fbde-45f3-bc07-26b084c2fe20",
   "metadata": {},
   "source": [
    "### Generate and Send the email"
   ]
  },
  {
   "cell_type": "code",
   "execution_count": 68,
   "id": "785ab3f7-450d-4af6-bd06-4d95f73042cb",
   "metadata": {},
   "outputs": [],
   "source": [
    "import win32com.client\n",
    "\n",
    "# Generate a new email\n",
    "outlook = win32com.client.Dispatch('outlook.application')\n",
    "mail = outlook.CreateItem(0)\n",
    "mail.To = 'aaron@sagacollab.com'\n",
    "mail.Subject = 'Mito Email Template'\n",
    "\n",
    "# Add the pivot table to the email body\n",
    "mail.HTMLBody = table_html = df_pivot_styler.to_html()\n",
    "\n",
    "# Send the email\n",
    "mail.Send()"
   ]
  }
 ],
 "metadata": {
  "kernelspec": {
   "display_name": "Python 3 (ipykernel)",
   "language": "python",
   "name": "python3"
  },
  "language_info": {
   "codemirror_mode": {
    "name": "ipython",
    "version": 3
   },
   "file_extension": ".py",
   "mimetype": "text/x-python",
   "name": "python",
   "nbconvert_exporter": "python",
   "pygments_lexer": "ipython3",
   "version": "3.9.7"
  },
  "widgets": {
   "application/vnd.jupyter.widget-state+json": {
    "state": {},
    "version_major": 2,
    "version_minor": 0
   }
  }
 },
 "nbformat": 4,
 "nbformat_minor": 5
}
