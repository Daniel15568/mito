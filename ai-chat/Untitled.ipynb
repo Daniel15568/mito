{
 "cells": [
  {
   "cell_type": "code",
   "execution_count": null,
   "id": "f59182d1-16c1-4a1d-ba7e-66e37782a73c",
   "metadata": {},
   "outputs": [],
   "source": [
    "if x == y:\n",
    "    print('indent')\n",
    "    return f\n",
    "\n",
    "abc\n"
   ]
  }
 ],
 "metadata": {
  "kernelspec": {
   "display_name": "Python 3 (ipykernel)",
   "language": "python",
   "name": "python3"
  },
  "language_info": {
   "codemirror_mode": {
    "name": "ipython",
    "version": 3
   },
   "file_extension": ".py",
   "mimetype": "text/x-python",
   "name": "python",
   "nbconvert_exporter": "python",
   "pygments_lexer": "ipython3",
   "version": "3.12.4"
  }
 },
 "nbformat": 4,
 "nbformat_minor": 5
}
