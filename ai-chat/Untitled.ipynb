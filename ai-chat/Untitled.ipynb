{
 "cells": [
  {
   "cell_type": "code",
   "execution_count": 7,
   "id": "f59182d1-16c1-4a1d-ba7e-66e37782a73c",
   "metadata": {},
   "outputs": [
    {
     "name": "stdout",
     "output_type": "stream",
     "text": [
      "The largest number is: 20\n"
     ]
    }
   ],
   "source": [
    "def sum_two_numbers(x, y):\n",
    "    return x + y\n",
    "\n",
    "x = 10\n",
    "y = 20\n",
    "\n",
    "result = sum_two_numbers(x, y)"
   ]
  },
  {
   "cell_type": "code",
   "execution_count": null,
   "id": "79a32150-310e-43fd-b1fb-65cbcf3fac3b",
   "metadata": {},
   "outputs": [],
   "source": []
  },
  {
   "cell_type": "code",
   "execution_count": null,
   "id": "796fe7e7-1543-4ea2-952e-ff028115e010",
   "metadata": {},
   "outputs": [],
   "source": []
  }
 ],
 "metadata": {
  "kernelspec": {
   "display_name": "Python 3 (ipykernel)",
   "language": "python",
   "name": "python3"
  },
  "language_info": {
   "codemirror_mode": {
    "name": "ipython",
    "version": 3
   },
   "file_extension": ".py",
   "mimetype": "text/x-python",
   "name": "python",
   "nbconvert_exporter": "python",
   "pygments_lexer": "ipython3",
   "version": "3.12.4"
  }
 },
 "nbformat": 4,
 "nbformat_minor": 5
}
